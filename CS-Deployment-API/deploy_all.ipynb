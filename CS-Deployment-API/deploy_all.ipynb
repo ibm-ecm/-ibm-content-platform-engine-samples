{
 "cells": [
  {
   "cell_type": "markdown",
   "metadata": {},
   "source": [
    " Licensed Materials - Property of IBM (c) Copyright IBM Corp. 2024 All Rights Reserved.\n",
    "\n",
    " US Government Users Restricted Rights - Use, duplication or disclosure restricted by GSA ADP Schedule Contract with\n",
    " IBM Corp.\n",
    "\n",
    " DISCLAIMER OF WARRANTIES :\n",
    "\n",
    " Permission is granted to copy and modify this Sample code, and to distribute modified versions provided that both the\n",
    " copyright notice, and this permission notice and warranty disclaimer appear in all copies and modified versions.\n",
    "\n",
    " THIS SAMPLE CODE IS LICENSED TO YOU AS-IS. IBM AND ITS SUPPLIERS AND LICENSORS DISCLAIM ALL WARRANTIES, EITHER\n",
    " EXPRESS OR IMPLIED, IN SUCH SAMPLE CODE, INCLUDING THE WARRANTY OF NON-INFRINGEMENT AND THE IMPLIED WARRANTIES OF\n",
    " MERCHANTABILITY OR FITNESS FOR A PARTICULAR PURPOSE. IN NO EVENT WILL IBM OR ITS LICENSORS OR SUPPLIERS BE LIABLE FOR\n",
    " ANY DAMAGES ARISING OUT OF THE USE OF OR INABILITY TO USE THE SAMPLE CODE, DISTRIBUTION OF THE SAMPLE CODE, OR\n",
    " COMBINATION OF THE SAMPLE CODE WITH ANY OTHER CODE. IN NO EVENT SHALL IBM OR ITS LICENSORS AND SUPPLIERS BE LIABLE\n",
    " FOR ANY LOST REVENUE, LOST PROFITS OR DATA, OR FOR DIRECT, INDIRECT, SPECIAL, CONSEQUENTIAL, INCIDENTAL OR PUNITIVE\n",
    " DAMAGES, HOWEVER CAUSED AND REGARDLESS OF THE THEORY OF LIABILITY, EVEN IF IBM OR ITS LICENSORS OR SUPPLIERS HAVE\n",
    " BEEN ADVISED OF THE POSSIBILITY OF SUCH DAMAGES."
   ]
  },
  {
   "cell_type": "code",
   "execution_count": 1,
   "id": "8d271fab",
   "metadata": {},
   "outputs": [],
   "source": [
    "import json\n",
    "import config\n",
    "from datetime import datetime\n",
    "from csdeploy import Importer, Exporter, GraphqlConnection, DeploymentPackage, ExportSelection, ImportOptions, AuditLogger, SelectionType, ObjectType, logging"
   ]
  },
  {
   "cell_type": "markdown",
   "id": "ddf8a5dc",
   "metadata": {},
   "source": [
    "# Source system config"
   ]
  },
  {
   "cell_type": "code",
   "execution_count": null,
   "id": "a8445210",
   "metadata": {},
   "outputs": [],
   "source": [
    "print(config.GQL_URL)\n",
    "print(config.OS_NAME)"
   ]
  },
  {
   "cell_type": "markdown",
   "id": "1ba546ac",
   "metadata": {},
   "source": [
    "# API Logging"
   ]
  },
  {
   "cell_type": "markdown",
   "id": "71c45bcb",
   "metadata": {},
   "source": [
    "#### Initalize Audit Logging Object\n",
    "\n",
    "Note: This is to audit all operations done by API"
   ]
  },
  {
   "cell_type": "code",
   "execution_count": null,
   "id": "d40d0d9d",
   "metadata": {},
   "outputs": [],
   "source": [
    "audit_logger = AuditLogger(file_path=\"audit.log\")"
   ]
  },
  {
   "cell_type": "markdown",
   "id": "24e33d8a",
   "metadata": {},
   "source": [
    "#### Set logger API Logging Level (Optional)\n",
    "Note: This is mainly for debugging. Change level to `logging.DEBUG` for more log details on requests being made"
   ]
  },
  {
   "cell_type": "code",
   "execution_count": null,
   "id": "e8b2655a",
   "metadata": {},
   "outputs": [],
   "source": [
    "logging.basicConfig()\n",
    "logging.getLogger(\"csdeploy\").setLevel(logging.WARNING)"
   ]
  },
  {
   "cell_type": "markdown",
   "id": "a5b65437",
   "metadata": {},
   "source": [
    "# Authenticate with the source GraphQL server\n",
    "(Choose one method of Authentication) <br> <br>\n",
    "Note: Set `ssl_enabled = false` in `GraphqlConnection` if SSL issue occurs"
   ]
  },
  {
   "cell_type": "markdown",
   "id": "6532b711",
   "metadata": {},
   "source": [
    "#### OAuth Authentication"
   ]
  },
  {
   "cell_type": "code",
   "execution_count": null,
   "id": "d571d4d6",
   "metadata": {},
   "outputs": [],
   "source": [
    "source_connection = GraphqlConnection(url=config.GQL_URL, token_url=config.TOKEN_URL)\n",
    "source_connection.initialize_oauth(client_id=config.CLIENT_ID,client_secret= config.CLIENT_SECRET, username=config.OAUTH_USERNAME, password=config.OAUTH_PASSWORD,\\\n",
    "                                grant_type=config.GRANT_TYPE, scope=config.SCOPE)\n",
    "source_connection.get_token()\n",
    "\n",
    "#CODE BELOW IS ONLY USED FOR PRINT STATEMENTS\n",
    "print(\"XSRF token: \" + source_connection.xsrf_token)\n",
    "print(\"Authentication token: \" + source_connection.token)"
   ]
  },
  {
   "cell_type": "markdown",
   "id": "cc037f7d",
   "metadata": {},
   "source": [
    "#### Basic Authentication"
   ]
  },
  {
   "cell_type": "code",
   "execution_count": null,
   "id": "ae4215d1",
   "metadata": {},
   "outputs": [],
   "source": [
    "source_connection = GraphqlConnection(url=config.GQL_URL)\n",
    "source_connection.initialize_basic(username=config.BASIC_USERNAME, password=config.BASIC_PASSWORD)\n",
    "\n",
    "#CODE BELOW IS ONLY USED FOR PRINT STATEMENTS\n",
    "print(\"XSRF token: \" + source_connection.xsrf_token)"
   ]
  },
  {
   "cell_type": "markdown",
   "id": "fe0c8b0b",
   "metadata": {},
   "source": [
    "#### Zen and IAM Authentication"
   ]
  },
  {
   "cell_type": "code",
   "execution_count": null,
   "id": "d300e43b",
   "metadata": {},
   "outputs": [],
   "source": [
    "source_connection = GraphqlConnection(url=config.GQL_URL, token_url=config.TOKEN_URL)\n",
    "source_connection.initialize_zen_iam(zen_exchange_url=config.EXCHANGE_TOKEN_URL, iam_client_id=config.CLIENT_ID,\\\n",
    "                                    iam_client_secret= config.CLIENT_SECRET, iam_username=config.OAUTH_USERNAME,\\\n",
    "                                    iam_password=config.OAUTH_PASSWORD, iam_grant_type=config.GRANT_TYPE,\\\n",
    "                                    iam_scope=config.SCOPE)\n",
    "source_connection.get_token()\n",
    "\n",
    "#CODE BELOW IS ONLY USED FOR PRINT STATEMENTS\n",
    "print(\"XSRF token: \" + source_connection.xsrf_token)\n",
    "print(\"Access token: \" + source_connection.token)"
   ]
  },
  {
   "cell_type": "markdown",
   "id": "7a6d416e",
   "metadata": {},
   "source": [
    "# Exporter"
   ]
  },
  {
   "cell_type": "markdown",
   "id": "0ffc2864",
   "metadata": {},
   "source": [
    "#### Initialize Export Selection to export all Class Definitions, Property Templates, and Choice Lists after `5/17/2023`"
   ]
  },
  {
   "cell_type": "code",
   "execution_count": null,
   "id": "14e9b7fd",
   "metadata": {},
   "outputs": [],
   "source": [
    "date = datetime(year=2023, month=5, day=17)\n",
    "export_selection = ExportSelection(selection_type=SelectionType.ALL_TIME,\\\n",
    "                                object_types=[ ObjectType.CLASS_DEFINITION, ObjectType.PROPERTY_TEMPLATE, ObjectType.CHOICE_LIST],\\\n",
    "                                date_time=date)"
   ]
  },
  {
   "cell_type": "markdown",
   "id": "64d211d0",
   "metadata": {},
   "source": [
    "#### Initialize an Exporter object with the classes to export"
   ]
  },
  {
   "cell_type": "code",
   "execution_count": null,
   "id": "5a7b0533",
   "metadata": {},
   "outputs": [],
   "source": [
    "deployment_package = DeploymentPackage()\n",
    "exporter = Exporter(gql_connection=source_connection,object_store_name= config.OS_NAME,\\\n",
    "                    deployment_package=deployment_package, audit_logger= audit_logger)\n",
    "exporter.initialize_selection(export_selection)\n",
    "\n",
    "#CODE BELOW IS ONLY USED FOR PRINT STATEMENTS\n",
    "pkg_json = deployment_package.to_json()\n",
    "print(\"Deployment package after selection:\")\n",
    "print(json.dumps(pkg_json, indent=4))"
   ]
  },
  {
   "cell_type": "markdown",
   "id": "d8bb1e51",
   "metadata": {},
   "source": [
    "#### Export objects in the package"
   ]
  },
  {
   "cell_type": "code",
   "execution_count": null,
   "id": "77f5ccf6",
   "metadata": {},
   "outputs": [],
   "source": [
    "exporter.export()\n",
    "\n",
    "#CODE BELOW IS ONLY USED FOR PRINT STATEMENTS\n",
    "print(\"Deployment package after objects exported:\")\n",
    "print(json.dumps(deployment_package.to_json(), indent=4))"
   ]
  },
  {
   "cell_type": "markdown",
   "id": "db747bfb",
   "metadata": {},
   "source": [
    "#### Save the package to a file"
   ]
  },
  {
   "cell_type": "code",
   "execution_count": null,
   "id": "54ba1f08",
   "metadata": {},
   "outputs": [],
   "source": [
    "deployment_package.write(\"export.json\")"
   ]
  },
  {
   "cell_type": "markdown",
   "id": "2e39059c",
   "metadata": {},
   "source": [
    "# Target system config"
   ]
  },
  {
   "cell_type": "code",
   "execution_count": null,
   "id": "fcb2a89f",
   "metadata": {},
   "outputs": [],
   "source": [
    "print(config.TARGET_GQL_URL)\n",
    "print(config.TARGET_OS_NAME)"
   ]
  },
  {
   "cell_type": "markdown",
   "id": "d6ca29de",
   "metadata": {},
   "source": [
    "# Authenticate with the target GraphQL server\n",
    "(Choose one method of Authentication) <br> <br>\n",
    "Note: Set `ssl_enabled = false` in `GraphqlConnection` if SSL issue occurs"
   ]
  },
  {
   "cell_type": "markdown",
   "id": "77c6e60f",
   "metadata": {},
   "source": [
    "#### OAuth Authentication"
   ]
  },
  {
   "cell_type": "code",
   "execution_count": null,
   "id": "a635ab69",
   "metadata": {},
   "outputs": [],
   "source": [
    "target_connection = GraphqlConnection(url=config.TARGET_GQL_URL, token_url=config.TARGET_TOKEN_URL)\n",
    "target_connection.initialize_oauth(client_id=config.TARGET_CLIENT_ID,client_secret= config.TARGET_CLIENT_SECRET, username=config.TARGET_OAUTH_USERNAME, password=config.TARGET_OAUTH_PASSWORD,\\\n",
    "                                grant_type=config.TARGET_GRANT_TYPE, scope=config.TARGET_SCOPE)\n",
    "target_connection.get_token()\n",
    "\n",
    "#CODE BELOW IS ONLY USED FOR PRINT STATEMENTS\n",
    "print(\"XSRF token: \" + target_connection.xsrf_token)\n",
    "print(\"Authentication token: \" + target_connection.token)"
   ]
  },
  {
   "cell_type": "markdown",
   "id": "f94d2729",
   "metadata": {},
   "source": [
    "#### Basic Authentication"
   ]
  },
  {
   "cell_type": "code",
   "execution_count": null,
   "id": "33106825",
   "metadata": {},
   "outputs": [],
   "source": [
    "target_connection = GraphqlConnection(url=config.TARGET_GQL_URL)\n",
    "target_connection.initialize_basic(username=config.TARGET_BASIC_USERNAME, password=config.TARGET_BASIC_PASSWORD)\n",
    "\n",
    "#CODE BELOW IS ONLY USED FOR PRINT STATEMENTS\n",
    "print(\"XSRF token: \" + target_connection.xsrf_token)"
   ]
  },
  {
   "cell_type": "markdown",
   "id": "72333bae",
   "metadata": {},
   "source": [
    "#### Zen and IAM Authentication"
   ]
  },
  {
   "cell_type": "code",
   "execution_count": null,
   "id": "39f530e7",
   "metadata": {},
   "outputs": [],
   "source": [
    "target_connection = GraphqlConnection(url=config.TARGET_GQL_URL, token_url=config.TARGET_TOKEN_URL)\n",
    "target_connection.initialize_zen_iam(zen_exchange_url=config.TARGET_EXCHANGE_TOKEN_URL, iam_client_id=config.TARGET_CLIENT_ID,\\\n",
    "                                    iam_client_secret= config.TARGET_CLIENT_SECRET, iam_username=config.TARGET_OAUTH_USERNAME,\\\n",
    "                                    iam_password=config.TARGET_OAUTH_PASSWORD, iam_grant_type=config.TARGET_GRANT_TYPE,\\\n",
    "                                    iam_scope=config.TARGET_SCOPE)\n",
    "target_connection.get_token()\n",
    "\n",
    "#CODE BELOW IS ONLY USED FOR PRINT STATEMENTS\n",
    "print(\"XSRF token: \" + target_connection.xsrf_token)\n",
    "print(\"Access token: \" + target_connection.token)"
   ]
  },
  {
   "cell_type": "markdown",
   "id": "e2a1a96e",
   "metadata": {},
   "source": [
    "# Importer"
   ]
  },
  {
   "cell_type": "markdown",
   "id": "0ab2a26b",
   "metadata": {},
   "source": [
    "#### Load the package file previously exported"
   ]
  },
  {
   "cell_type": "code",
   "execution_count": null,
   "id": "1fdcce96",
   "metadata": {},
   "outputs": [],
   "source": [
    "deployment_package = DeploymentPackage()\n",
    "deployment_package.read('export.json')\n",
    "\n",
    "#CODE BELOW IS ONLY USED FOR PRINT STATEMENTS\n",
    "print(json.dumps(deployment_package.to_json(), indent=4))"
   ]
  },
  {
   "cell_type": "markdown",
   "id": "b53c436a",
   "metadata": {},
   "source": [
    "#### Initialize import option to only import only newer objects from source to target if it exists"
   ]
  },
  {
   "cell_type": "code",
   "execution_count": null,
   "id": "7dfb55a0",
   "metadata": {},
   "outputs": [],
   "source": [
    "import_options = ImportOptions(only_import_newer_object=True)"
   ]
  },
  {
   "cell_type": "markdown",
   "id": "9c5d27a2",
   "metadata": {},
   "source": [
    "#### Generate the import discovery queries and mutations"
   ]
  },
  {
   "cell_type": "code",
   "execution_count": null,
   "id": "5824ee12",
   "metadata": {},
   "outputs": [],
   "source": [
    "importer = Importer(gql_connection=target_connection, object_store_name=config.TARGET_OS_NAME,\\\n",
    "                    deployment_package=deployment_package, import_options=import_options,\\\n",
    "                    audit_logger=audit_logger)\n",
    "importer.generate_mutations()\n",
    "\n",
    "#CODE BELOW IS ONLY USED FOR PRINT STATEMENTS\n",
    "print(\"\\nGenerated import discovery queries:\")\n",
    "for impqry in importer.discovery_queries:\n",
    "    print(\"--------------------\")\n",
    "    print(\"Objects retrieved by query:\")\n",
    "    for rid in impqry.retrievals:\n",
    "        print(\"    \" + rid)\n",
    "    print(\"The query:\")\n",
    "    print(impqry.query)\n",
    "print(\"\\nGenerated import mutations:\")\n",
    "for impmut in importer.import_mutations:\n",
    "    print(\"--------------------\")\n",
    "    print(\"Objects modified by mutation:\")\n",
    "    for rid in impmut.modifications:\n",
    "        print(\"    \" + rid)\n",
    "    print(\"Description of mutation: \" + impmut.description)\n",
    "    print(\"The mutation:\")\n",
    "    print(impmut.mutation)"
   ]
  },
  {
   "cell_type": "markdown",
   "id": "18287478",
   "metadata": {},
   "source": [
    "#### Import the exported objects by executing the mutations\n",
    "Note: we use `gen_mutations=False` since we already generated mutations in the cell above"
   ]
  },
  {
   "cell_type": "code",
   "execution_count": null,
   "id": "779f31fa",
   "metadata": {},
   "outputs": [],
   "source": [
    "mutrespjsons = importer.import_package(gen_mutations=False)\n",
    "\n",
    "#CODE BELOW IS ONLY USED FOR PRINT STATEMENTS\n",
    "print(\"Mutation responses:\")\n",
    "for mutrespjson in mutrespjsons:\n",
    "    print(\"--------------------\")\n",
    "    print(json.dumps(mutrespjson, indent=4))"
   ]
  },
  {
   "cell_type": "markdown",
   "id": "1af94939",
   "metadata": {},
   "source": [
    "Write all audited entries from memory to `audit_log.txt` file"
   ]
  },
  {
   "cell_type": "code",
   "execution_count": null,
   "id": "defef2df",
   "metadata": {},
   "outputs": [],
   "source": [
    "audit_logger.write()"
   ]
  }
 ],
 "metadata": {
  "kernelspec": {
   "display_name": "Python 3 (ipykernel)",
   "language": "python",
   "name": "python3"
  },
  "language_info": {
   "codemirror_mode": {
    "name": "ipython",
    "version": 3
   },
   "file_extension": ".py",
   "mimetype": "text/x-python",
   "name": "python",
   "nbconvert_exporter": "python",
   "pygments_lexer": "ipython3",
   "version": "3.11.6"
  }
 },
 "nbformat": 4,
 "nbformat_minor": 5
}
