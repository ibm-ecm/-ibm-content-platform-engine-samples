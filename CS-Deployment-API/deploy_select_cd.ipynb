{
 "cells": [
  {
   "cell_type": "markdown",
   "metadata": {},
   "source": [
    " Licensed Materials - Property of IBM (c) Copyright IBM Corp. 2024 All Rights Reserved.\n",
    "\n",
    " US Government Users Restricted Rights - Use, duplication or disclosure restricted by GSA ADP Schedule Contract with\n",
    " IBM Corp.\n",
    "\n",
    " DISCLAIMER OF WARRANTIES :\n",
    "\n",
    " Permission is granted to copy and modify this Sample code, and to distribute modified versions provided that both the\n",
    " copyright notice, and this permission notice and warranty disclaimer appear in all copies and modified versions.\n",
    "\n",
    " THIS SAMPLE CODE IS LICENSED TO YOU AS-IS. IBM AND ITS SUPPLIERS AND LICENSORS DISCLAIM ALL WARRANTIES, EITHER\n",
    " EXPRESS OR IMPLIED, IN SUCH SAMPLE CODE, INCLUDING THE WARRANTY OF NON-INFRINGEMENT AND THE IMPLIED WARRANTIES OF\n",
    " MERCHANTABILITY OR FITNESS FOR A PARTICULAR PURPOSE. IN NO EVENT WILL IBM OR ITS LICENSORS OR SUPPLIERS BE LIABLE FOR\n",
    " ANY DAMAGES ARISING OUT OF THE USE OF OR INABILITY TO USE THE SAMPLE CODE, DISTRIBUTION OF THE SAMPLE CODE, OR\n",
    " COMBINATION OF THE SAMPLE CODE WITH ANY OTHER CODE. IN NO EVENT SHALL IBM OR ITS LICENSORS AND SUPPLIERS BE LIABLE\n",
    " FOR ANY LOST REVENUE, LOST PROFITS OR DATA, OR FOR DIRECT, INDIRECT, SPECIAL, CONSEQUENTIAL, INCIDENTAL OR PUNITIVE\n",
    " DAMAGES, HOWEVER CAUSED AND REGARDLESS OF THE THEORY OF LIABILITY, EVEN IF IBM OR ITS LICENSORS OR SUPPLIERS HAVE\n",
    " BEEN ADVISED OF THE POSSIBILITY OF SUCH DAMAGES."
   ]
  },
  {
   "cell_type": "code",
   "execution_count": null,
   "id": "8d271fab",
   "metadata": {},
   "outputs": [],
   "source": [
    "import json\n",
    "import config\n",
    "from demoutil import ClassDefinitionsSelector\n",
    "from csdeploy import Importer, Exporter, GraphqlConnection, DeploymentPackage, ExportSelection, logging"
   ]
  },
  {
   "cell_type": "markdown",
   "id": "37aad1b8",
   "metadata": {},
   "source": [
    "# Source system config"
   ]
  },
  {
   "cell_type": "code",
   "execution_count": null,
   "id": "ffbfd93a",
   "metadata": {},
   "outputs": [],
   "source": [
    "print(config.GQL_URL)\n",
    "print(config.OS_NAME)"
   ]
  },
  {
   "cell_type": "markdown",
   "id": "1ba546ac",
   "metadata": {},
   "source": [
    "# Set Logging level (Optional)"
   ]
  },
  {
   "cell_type": "markdown",
   "id": "24e33d8a",
   "metadata": {},
   "source": [
    "Note: Change level to `logging.DEBUG` for more log details on requests being made"
   ]
  },
  {
   "cell_type": "code",
   "execution_count": null,
   "id": "e8b2655a",
   "metadata": {},
   "outputs": [],
   "source": [
    "logging.basicConfig()\n",
    "logging.getLogger(\"csdeploy\").setLevel(logging.WARNING)"
   ]
  },
  {
   "cell_type": "markdown",
   "id": "a5b65437",
   "metadata": {},
   "source": [
    "# Authenticate with the source GraphQL server\n",
    "Choose one method of Authentication <br> <br>\n",
    "Note: Set `ssl_enabled = false` in `GraphqlConnection` if SSL issue occurs"
   ]
  },
  {
   "cell_type": "markdown",
   "id": "6532b711",
   "metadata": {},
   "source": [
    "#### OAuth Authentication"
   ]
  },
  {
   "cell_type": "code",
   "execution_count": null,
   "id": "d571d4d6",
   "metadata": {},
   "outputs": [],
   "source": [
    "source_connection = GraphqlConnection(url=config.GQL_URL, token_url=config.TOKEN_URL)\n",
    "source_connection.initialize_oauth(client_id=config.CLIENT_ID,client_secret= config.CLIENT_SECRET, username=config.OAUTH_USERNAME, password=config.OAUTH_PASSWORD,\\\n",
    "                                grant_type=config.GRANT_TYPE, scope=config.SCOPE)\n",
    "source_connection.get_token()\n",
    "\n",
    "#CODE BELOW IS ONLY USED FOR PRINT STATEMENTS\n",
    "print(\"XSRF token: \" + source_connection.xsrf_token)\n",
    "print(\"Authentication token: \" + source_connection.token)"
   ]
  },
  {
   "cell_type": "markdown",
   "id": "cc037f7d",
   "metadata": {},
   "source": [
    "#### Basic Authentication"
   ]
  },
  {
   "cell_type": "code",
   "execution_count": null,
   "id": "ae4215d1",
   "metadata": {},
   "outputs": [],
   "source": [
    "source_connection = GraphqlConnection(url=config.GQL_URL)\n",
    "source_connection.initialize_basic(username=config.BASIC_USERNAME, password=config.BASIC_PASSWORD)\n",
    "\n",
    "#CODE BELOW IS ONLY USED FOR PRINT STATEMENTS\n",
    "print(\"XSRF token: \" + source_connection.xsrf_token)"
   ]
  },
  {
   "cell_type": "markdown",
   "id": "8f226ae1",
   "metadata": {},
   "source": [
    "#### Zen and IAM Authentication"
   ]
  },
  {
   "cell_type": "code",
   "execution_count": null,
   "id": "358371f5",
   "metadata": {},
   "outputs": [],
   "source": [
    "source_connection = GraphqlConnection(url=config.GQL_URL, token_url=config.TOKEN_URL)\n",
    "source_connection.initialize_zen_iam(zen_exchange_url=config.EXCHANGE_TOKEN_URL, iam_client_id=config.CLIENT_ID,\\\n",
    "                                    iam_client_secret= config.CLIENT_SECRET, iam_username=config.OAUTH_USERNAME,\\\n",
    "                                    iam_password=config.OAUTH_PASSWORD, iam_grant_type=config.GRANT_TYPE,\\\n",
    "                                    iam_scope=config.SCOPE)\n",
    "source_connection.get_token()\n",
    "\n",
    "#CODE BELOW IS ONLY USED FOR PRINT STATEMENTS\n",
    "print(\"XSRF token: \" + source_connection.xsrf_token)\n",
    "print(\"Access token: \" + source_connection.token)"
   ]
  },
  {
   "cell_type": "markdown",
   "id": "0ffc2864",
   "metadata": {},
   "source": [
    "# Prompt for one or more classes to export"
   ]
  },
  {
   "cell_type": "code",
   "execution_count": null,
   "id": "14e9b7fd",
   "metadata": {},
   "outputs": [],
   "source": [
    "selector = ClassDefinitionsSelector(config.OS_NAME, source_connection)\n",
    "selector.prompt_selection()\n",
    "print(\"Classes selected:\")\n",
    "for sel in selector.selections:\n",
    "    jsonobj = sel.to_json()\n",
    "    print(str(jsonobj))\n",
    "export_selection = ExportSelection(class_definitions=selector.selections)"
   ]
  },
  {
   "cell_type": "markdown",
   "id": "405046ec",
   "metadata": {},
   "source": [
    "# Exporter"
   ]
  },
  {
   "cell_type": "markdown",
   "id": "64d211d0",
   "metadata": {},
   "source": [
    "#### Initialize an Exporter object with the classes to export"
   ]
  },
  {
   "cell_type": "code",
   "execution_count": null,
   "id": "5a7b0533",
   "metadata": {},
   "outputs": [],
   "source": [
    "deployment_package = DeploymentPackage()\n",
    "exporter = Exporter(source_connection, config.OS_NAME, deployment_package)\n",
    "exporter.initialize_selection(export_selection)\n",
    "\n",
    "#CODE BELOW IS ONLY USED FOR PRINT STATEMENTS\n",
    "pkg_json = deployment_package.to_json()\n",
    "print(\"Deployment package after selection:\")\n",
    "print(json.dumps(pkg_json, indent=4))"
   ]
  },
  {
   "cell_type": "markdown",
   "id": "d8bb1e51",
   "metadata": {},
   "source": [
    "#### Export objects in the package"
   ]
  },
  {
   "cell_type": "code",
   "execution_count": null,
   "id": "77f5ccf6",
   "metadata": {},
   "outputs": [],
   "source": [
    "exporter.export()\n",
    "\n",
    "#CODE BELOW IS ONLY USED FOR PRINT STATEMENTS\n",
    "print(\"Deployment package after objects exported:\")\n",
    "print(json.dumps(deployment_package.to_json(), indent=4))"
   ]
  },
  {
   "cell_type": "markdown",
   "id": "db747bfb",
   "metadata": {},
   "source": [
    "#### Save the package to a file"
   ]
  },
  {
   "cell_type": "code",
   "execution_count": null,
   "id": "54ba1f08",
   "metadata": {},
   "outputs": [],
   "source": [
    "deployment_package.write(\"export.json\")"
   ]
  },
  {
   "cell_type": "markdown",
   "id": "2e39059c",
   "metadata": {},
   "source": [
    "# Target System Config"
   ]
  },
  {
   "cell_type": "code",
   "execution_count": null,
   "id": "fcb2a89f",
   "metadata": {},
   "outputs": [],
   "source": [
    "print(config.TARGET_GQL_URL)\n",
    "print(config.TARGET_OS_NAME)"
   ]
  },
  {
   "cell_type": "markdown",
   "id": "d6ca29de",
   "metadata": {},
   "source": [
    "# Authenticate with the target GraphQL server\n",
    "(Choose one method of Authentication) <br><br>\n",
    "Note: Set `ssl_enabled = false` in `GraphqlConnection` if SSL issue occurs"
   ]
  },
  {
   "cell_type": "markdown",
   "id": "77c6e60f",
   "metadata": {},
   "source": [
    "#### OAuth Authentication"
   ]
  },
  {
   "cell_type": "code",
   "execution_count": null,
   "id": "a635ab69",
   "metadata": {},
   "outputs": [],
   "source": [
    "target_connection = GraphqlConnection(url=config.TARGET_GQL_URL, token_url=config.TARGET_TOKEN_URL)\n",
    "target_connection.initialize_oauth(client_id=config.TARGET_CLIENT_ID,client_secret= config.TARGET_CLIENT_SECRET, username=config.TARGET_OAUTH_USERNAME, password=config.TARGET_OAUTH_PASSWORD,\\\n",
    "                                grant_type=config.TARGET_GRANT_TYPE, scope=config.TARGET_SCOPE)\n",
    "target_connection.get_token()\n",
    "\n",
    "#CODE BELOW IS ONLY USED FOR PRINT STATEMENTS\n",
    "print(\"XSRF token: \" + target_connection.xsrf_token)\n",
    "print(\"Authentication token: \" + target_connection.token)"
   ]
  },
  {
   "cell_type": "markdown",
   "id": "f94d2729",
   "metadata": {},
   "source": [
    "#### Basic Authentication"
   ]
  },
  {
   "cell_type": "code",
   "execution_count": null,
   "id": "33106825",
   "metadata": {},
   "outputs": [],
   "source": [
    "target_connection = GraphqlConnection(url=config.TARGET_GQL_URL, ssl_enabled=False)\n",
    "target_connection.initialize_basic(username=config.TARGET_BASIC_USERNAME, password=config.TARGET_BASIC_PASSWORD)\n",
    "\n",
    "#CODE BELOW IS ONLY USED FOR PRINT STATEMENTS\n",
    "print(\"XSRF token: \" + target_connection.xsrf_token)"
   ]
  },
  {
   "cell_type": "markdown",
   "id": "fb767959",
   "metadata": {},
   "source": [
    "#### Zen and IAM Authentication"
   ]
  },
  {
   "cell_type": "code",
   "execution_count": null,
   "id": "5515627d",
   "metadata": {},
   "outputs": [],
   "source": [
    "target_connection = GraphqlConnection(url=config.TARGET_GQL_URL, token_url=config.TARGET_TOKEN_URL)\n",
    "target_connection.initialize_zen_iam(zen_exchange_url=config.TARGET_EXCHANGE_TOKEN_URL, iam_client_id=config.TARGET_CLIENT_ID,\\\n",
    "                                    iam_client_secret= config.TARGET_CLIENT_SECRET, iam_username=config.TARGET_OAUTH_USERNAME,\\\n",
    "                                    iam_password=config.TARGET_OAUTH_PASSWORD, iam_grant_type=config.TARGET_GRANT_TYPE,\\\n",
    "                                    iam_scope=config.TARGET_SCOPE)\n",
    "target_connection.get_token()\n",
    "\n",
    "#CODE BELOW IS ONLY USED FOR PRINT STATEMENTS\n",
    "print(\"XSRF token: \" + target_connection.xsrf_token)\n",
    "print(\"Access token: \" + target_connection.token)"
   ]
  },
  {
   "cell_type": "markdown",
   "id": "6eeb4957",
   "metadata": {},
   "source": [
    "# Importer"
   ]
  },
  {
   "cell_type": "markdown",
   "id": "0ab2a26b",
   "metadata": {},
   "source": [
    "#### Load the package file previously exported"
   ]
  },
  {
   "cell_type": "code",
   "execution_count": null,
   "id": "1fdcce96",
   "metadata": {},
   "outputs": [],
   "source": [
    "deployment_package = DeploymentPackage()\n",
    "deployment_package.read('export.json')\n",
    "\n",
    "#CODE BELOW IS ONLY USED FOR PRINT STATEMENTS\n",
    "print(json.dumps(deployment_package.to_json(), indent=4))"
   ]
  },
  {
   "cell_type": "markdown",
   "id": "9c5d27a2",
   "metadata": {},
   "source": [
    "#### Generate and execute queries and mutations.\n",
    "Note: To generate mutations before executing, call `Importer.generate_mutation()` method\n"
   ]
  },
  {
   "cell_type": "code",
   "execution_count": null,
   "id": "5824ee12",
   "metadata": {},
   "outputs": [],
   "source": [
    "importer = Importer(target_connection, config.TARGET_OS_NAME, deployment_package)\n",
    "mutrespjsons = importer.import_package()\n",
    "\n",
    "#CODE BELOW IS ONLY USED FOR PRINT STATEMENTS\n",
    "print(\"\\nGenerated import discovery queries:\")\n",
    "for impqry in importer.discovery_queries:\n",
    "    print(\"--------------------\")\n",
    "    print(\"Objects retrieved by query:\")\n",
    "    for rid in impqry.retrievals:\n",
    "        print(\"    \" + rid)\n",
    "    print(\"The query:\")\n",
    "    print(impqry.query)\n",
    "print(\"\\nGenerated import mutations:\")\n",
    "for impmut in importer.import_mutations:\n",
    "    print(\"--------------------\")\n",
    "    print(\"Objects modified by mutation:\")\n",
    "    for rid in impmut.modifications:\n",
    "        print(\"    \" + rid)\n",
    "    print(\"Description of mutation: \" + impmut.description)\n",
    "    print(\"The mutation:\")\n",
    "    print(impmut.mutation)\n",
    "print(\"Mutation responses:\")\n",
    "\n",
    "for mutrespjson in mutrespjsons:\n",
    "    print(\"--------------------\")\n",
    "    print(json.dumps(mutrespjson, indent=4))"
   ]
  }
 ],
 "metadata": {
  "kernelspec": {
   "display_name": "Python 3 (ipykernel)",
   "language": "python",
   "name": "python3"
  },
  "language_info": {
   "codemirror_mode": {
    "name": "ipython",
    "version": 3
   },
   "file_extension": ".py",
   "mimetype": "text/x-python",
   "name": "python",
   "nbconvert_exporter": "python",
   "pygments_lexer": "ipython3",
   "version": "3.11.6"
  }
 },
 "nbformat": 4,
 "nbformat_minor": 5
}
